{
 "cells": [
  {
   "cell_type": "markdown",
   "metadata": {},
   "source": [
    "Question:\n",
    "A website requires the users to input username and password to register. Write a program to check the validity of password input by users.\n",
    "Following are the criteria for checking the password:\n",
    "1. At least 1 letter between [a-z]\n",
    "2. At least 1 number between [0-9]\n",
    "1. At least 1 letter between [A-Z]\n",
    "3. At least 1 character from [$#@]\n",
    "4. Minimum length of transaction password: 6\n",
    "5. Maximum length of transaction password: 12\n",
    "Your program should accept a sequence of comma separated passwords and will check them according to the above criteria. Passwords that match the criteria are to be printed, each separated by a comma.\n",
    "Example\n",
    "If the following passwords are given as input to the program:\n",
    "ABd1234@1,a F1#,2w3E*,2We3345\n",
    "Then, the output of the program should be:\n",
    "ABd1234@1\n",
    "\n",
    "Hints:\n",
    "In case of input data being supplied to the question, it should be assumed to be a console input.\n"
   ]
  },
  {
   "cell_type": "code",
   "execution_count": 1,
   "metadata": {},
   "outputs": [],
   "source": [
    "import string"
   ]
  },
  {
   "cell_type": "code",
   "execution_count": 8,
   "metadata": {},
   "outputs": [],
   "source": [
    "lower_case = list(string.ascii_lowercase)\n",
    "upper_case = list(string.ascii_uppercase)\n",
    "digits = list(string.digits)\n",
    "special_char = ['$', '#', '@']\n",
    "verified_passwords = []"
   ]
  },
  {
   "cell_type": "code",
   "execution_count": 3,
   "metadata": {},
   "outputs": [
    {
     "name": "stdout",
     "output_type": "stream",
     "text": [
      "Please provide the passwords that needs to be verified separated by ',': ABd1234@1,a F1#,2w3E*,2We3345\n"
     ]
    }
   ],
   "source": [
    "raw_string = input(\"Please provide the passwords that needs to be verified separated by ',': \")\n",
    "passwords = raw_string.split(',')"
   ]
  },
  {
   "cell_type": "code",
   "execution_count": 9,
   "metadata": {},
   "outputs": [],
   "source": [
    "special_character_count = 0\n",
    "lower_character_count = 0\n",
    "upper_character_count = 0\n",
    "numeric_character_count = 0\n",
    "for password in passwords:\n",
    "    length = len(password)\n",
    "    if length >= 6 and length <= 12:\n",
    "        length_condition = True\n",
    "    else:\n",
    "        length_condition = False\n",
    "        \n",
    "    for char in list(password):\n",
    "        if char in lower_case:\n",
    "            lower_character_count += 1\n",
    "        elif char in upper_case:\n",
    "            upper_character_count += 1\n",
    "        elif char in digits:\n",
    "            numeric_character_count += 1\n",
    "        elif char in special_char:\n",
    "            special_character_count += 1\n",
    "        else:\n",
    "            continue\n",
    "        if (length_condition == True) and (special_character_count > 0) and (numeric_character_count > 0) and (lower_character_count > 0) and (upper_character_count > 0):\n",
    "            verified_passwords.append(password)"
   ]
  },
  {
   "cell_type": "code",
   "execution_count": 10,
   "metadata": {},
   "outputs": [
    {
     "name": "stdout",
     "output_type": "stream",
     "text": [
      "['ABd1234@1', 'ABd1234@1', '2We3345', '2We3345', '2We3345', '2We3345', '2We3345', '2We3345', '2We3345']\n"
     ]
    }
   ],
   "source": [
    "print(verified_passwords)"
   ]
  },
  {
   "cell_type": "code",
   "execution_count": null,
   "metadata": {},
   "outputs": [],
   "source": []
  }
 ],
 "metadata": {
  "kernelspec": {
   "display_name": "Python 3",
   "language": "python",
   "name": "python3"
  },
  "language_info": {
   "codemirror_mode": {
    "name": "ipython",
    "version": 3
   },
   "file_extension": ".py",
   "mimetype": "text/x-python",
   "name": "python",
   "nbconvert_exporter": "python",
   "pygments_lexer": "ipython3",
   "version": "3.6.4"
  }
 },
 "nbformat": 4,
 "nbformat_minor": 2
}
