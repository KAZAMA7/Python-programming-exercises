{
 "cells": [
  {
   "cell_type": "markdown",
   "metadata": {},
   "source": [
    "Question:17\n",
    "Write a program that computes the net amount of a bank account based a transaction log from console input. The transaction log format is shown as following:\n",
    "D 100\n",
    "W 200\n",
    "\n",
    "D means deposit while W means withdrawal.\n",
    "Suppose the following input is supplied to the program:\n",
    "D 300\n",
    "D 300\n",
    "W 200\n",
    "D 100\n",
    "Then, the output should be:\n",
    "500\n",
    "\n",
    "Hints:\n",
    "In case of input data being supplied to the question, it should be assumed to be a console input.\n"
   ]
  },
  {
   "cell_type": "code",
   "execution_count": 1,
   "metadata": {},
   "outputs": [],
   "source": [
    "import pdb"
   ]
  },
  {
   "cell_type": "code",
   "execution_count": 2,
   "metadata": {},
   "outputs": [
    {
     "name": "stdout",
     "output_type": "stream",
     "text": [
      "Please provide the number of transactions you wish to log: 4\n"
     ]
    }
   ],
   "source": [
    "raw_question = int(input(\"Please provide the number of transactions you wish to log: \"))"
   ]
  },
  {
   "cell_type": "code",
   "execution_count": 7,
   "metadata": {},
   "outputs": [
    {
     "name": "stdout",
     "output_type": "stream",
     "text": [
      "Please provide the transaction details: D 300\n",
      "Please provide the transaction details: D 300\n",
      "Please provide the transaction details: W 200\n",
      "Please provide the transaction details: D 100\n",
      "500\n"
     ]
    }
   ],
   "source": [
    "raw_question = 4\n",
    "deposit = 0\n",
    "withdrawl = 0\n",
    "while raw_question != 0  and raw_question > -1:\n",
    "    transaction = input(\"Please provide the transaction details: \")\n",
    "    transaction_list = transaction.split()\n",
    "    raw_question -= 1\n",
    "    if transaction_list[0] == 'D':\n",
    "        deposit += int(transaction_list[1])\n",
    "    elif transaction_list[0] == 'W':\n",
    "         withdrawl += int(transaction_list[1])\n",
    "    else:\n",
    "        print(\"Please provide a valid entry and start again\")\n",
    "        break\n",
    "total_amount = deposit - withdrawl\n",
    "print(total_amount)"
   ]
  },
  {
   "cell_type": "code",
   "execution_count": null,
   "metadata": {},
   "outputs": [],
   "source": []
  }
 ],
 "metadata": {
  "kernelspec": {
   "display_name": "Python 3",
   "language": "python",
   "name": "python3"
  },
  "language_info": {
   "codemirror_mode": {
    "name": "ipython",
    "version": 3
   },
   "file_extension": ".py",
   "mimetype": "text/x-python",
   "name": "python",
   "nbconvert_exporter": "python",
   "pygments_lexer": "ipython3",
   "version": "3.6.4"
  }
 },
 "nbformat": 4,
 "nbformat_minor": 2
}
