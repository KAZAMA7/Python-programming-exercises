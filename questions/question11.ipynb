{
 "cells": [
  {
   "cell_type": "markdown",
   "metadata": {},
   "source": [
    "question11\n",
    "Write a program which accepts a sequence of comma separated 4 digit binary numbers as its input and then check whether they are divisible by 5 or not. The numbers that are divisible by 5 are to be printed in a comma separated sequence.\n",
    "Example:\n",
    "0100,0011,1010,1001\n",
    "Then the output should be:\n",
    "1010\n",
    "Notes: Assume the data is input by console.\n",
    "\n",
    "Hints:\n",
    "In case of input data being supplied to the question, it should be assumed to be a console input.\n"
   ]
  },
  {
   "cell_type": "code",
   "execution_count": 1,
   "metadata": {},
   "outputs": [
    {
     "name": "stdout",
     "output_type": "stream",
     "text": [
      "Please provide the input seperated by ',': 0100,0011,1010,1001\n"
     ]
    }
   ],
   "source": [
    "input1 = input(\"Please provide the input seperated by ',': \")"
   ]
  },
  {
   "cell_type": "code",
   "execution_count": 2,
   "metadata": {},
   "outputs": [
    {
     "name": "stdout",
     "output_type": "stream",
     "text": [
      "['0100', '0011', '1010', '1001']\n"
     ]
    }
   ],
   "source": [
    "numbers = input1.split(',')\n",
    "print(numbers)"
   ]
  },
  {
   "cell_type": "code",
   "execution_count": 19,
   "metadata": {
    "collapsed": true
   },
   "outputs": [
    {
     "name": "stdout",
     "output_type": "stream",
     "text": [
      "0100\n",
      "0\n",
      "\n",
      "1\n",
      "\n",
      "0\n",
      "\n",
      "0\n",
      "\n",
      "0011\n",
      "0\n",
      "\n",
      "0\n",
      "\n",
      "1\n",
      "\n",
      "1\n",
      "\n",
      "1010\n",
      "1\n",
      "\n",
      "0\n",
      "\n",
      "1\n",
      "\n",
      "0\n",
      "\n",
      "1001\n",
      "1\n",
      "\n",
      "0\n",
      "\n",
      "0\n",
      "\n",
      "1\n",
      "\n"
     ]
    }
   ],
   "source": [
    "decimals = []\n",
    "for number in numbers:\n",
    "    print(number)\n",
    "    for i in range(4):\n",
    "        print(number[i] +  \"\\n\")\n"
   ]
  },
  {
   "cell_type": "code",
   "execution_count": 20,
   "metadata": {},
   "outputs": [],
   "source": [
    "for number in numbers:\n",
    "    number = ((int(number[0]) * ( 2 ** 0 )) + (int(number[3]) * ( 2 ** 3 )) + (int(number[1]) * ( 2 ** 1 )) + (int(number[2]) * ( 2 ** 2 )))\n",
    "    decimals.append(number)"
   ]
  },
  {
   "cell_type": "code",
   "execution_count": 21,
   "metadata": {},
   "outputs": [
    {
     "name": "stdout",
     "output_type": "stream",
     "text": [
      "[2, 12, 5, 9]\n"
     ]
    }
   ],
   "source": [
    "print(decimals)\n",
    "binaries = []"
   ]
  },
  {
   "cell_type": "code",
   "execution_count": 22,
   "metadata": {},
   "outputs": [
    {
     "name": "stdout",
     "output_type": "stream",
     "text": [
      "5\n"
     ]
    }
   ],
   "source": [
    "for number in decimals:\n",
    "    if number % 5 == 0:\n",
    "        print(number)"
   ]
  },
  {
   "cell_type": "code",
   "execution_count": null,
   "metadata": {},
   "outputs": [],
   "source": []
  }
 ],
 "metadata": {
  "kernelspec": {
   "display_name": "Python 3",
   "language": "python",
   "name": "python3"
  },
  "language_info": {
   "codemirror_mode": {
    "name": "ipython",
    "version": 3
   },
   "file_extension": ".py",
   "mimetype": "text/x-python",
   "name": "python",
   "nbconvert_exporter": "python",
   "pygments_lexer": "ipython3",
   "version": "3.6.4"
  }
 },
 "nbformat": 4,
 "nbformat_minor": 2
}
