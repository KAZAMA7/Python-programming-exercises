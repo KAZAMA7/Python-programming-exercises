{
 "cells": [
  {
   "cell_type": "markdown",
   "metadata": {},
   "source": [
    "Question:21\n",
    "A robot moves in a plane starting from the original point (0,0). The robot can move toward UP, DOWN, LEFT and RIGHT with a given steps. The trace of robot movement is shown as the following:\n",
    "UP 5\n",
    "DOWN 3\n",
    "LEFT 3\n",
    "RIGHT 2\n",
    "¡­\n",
    "The numbers after the direction are steps. Please write a program to compute the distance from current position after a sequence of movement and original point. If the distance is a float, then just print the nearest integer.\n",
    "Example:\n",
    "If the following tuples are given as input to the program:\n",
    "UP 5\n",
    "DOWN 3\n",
    "LEFT 3\n",
    "RIGHT 2\n",
    "Then, the output of the program should be:\n",
    "2\n",
    "\n",
    "Hints:\n",
    "In case of input data being supplied to the question, it should be assumed to be a console input.\n"
   ]
  },
  {
   "cell_type": "code",
   "execution_count": 1,
   "metadata": {},
   "outputs": [
    {
     "name": "stdout",
     "output_type": "stream",
     "text": [
      "{'vertical': 0, 'horizontal': 0}\n"
     ]
    }
   ],
   "source": [
    "import math\n",
    "import pdb\n",
    "position = {'vertical': 0, 'horizontal': 0}\n",
    "print(position)"
   ]
  },
  {
   "cell_type": "code",
   "execution_count": 3,
   "metadata": {},
   "outputs": [
    {
     "name": "stdout",
     "output_type": "stream",
     "text": [
      "Please provide the number of movements:  4\n"
     ]
    }
   ],
   "source": [
    "number_of_steps = int(input(\"Please provide the number of movements:  \"))"
   ]
  },
  {
   "cell_type": "code",
   "execution_count": 4,
   "metadata": {
    "collapsed": true
   },
   "outputs": [
    {
     "name": "stdout",
     "output_type": "stream",
     "text": [
      "UP 5\n",
      "DOWN 3\n",
      "LEFT 3\n",
      "RIGHT 2\n",
      "The distance travelled is 2\n"
     ]
    }
   ],
   "source": [
    "while number_of_steps > 0:\n",
    "    number_of_steps -= 1\n",
    "    raw_string = input()\n",
    "    raw_list = raw_string.split()\n",
    "    if raw_list[0] == 'UP':\n",
    "        position['vertical'] += int(raw_list[1])\n",
    "    elif raw_list[0] == 'DOWN':\n",
    "        position['vertical'] -= int(raw_list[1])\n",
    "    elif raw_list[0] == 'LEFT':\n",
    "        position['horizontal'] -= int(raw_list[1])\n",
    "    elif raw_list[0] == 'RIGHT':\n",
    "        position['horizontal'] += int(raw_list[1])\n",
    "    else:\n",
    "        print(\"Please provide a valid input and start again\")\n",
    "        break\n",
    "distance = position['vertical'] ** 2 + position['horizontal'] ** 2\n",
    "distance_modified = round(math.sqrt(distance))\n",
    "print(\"The distance travelled is {}\".format(distance_modified))\n",
    "    "
   ]
  }
 ],
 "metadata": {
  "kernelspec": {
   "display_name": "Python 3",
   "language": "python",
   "name": "python3"
  },
  "language_info": {
   "codemirror_mode": {
    "name": "ipython",
    "version": 3
   },
   "file_extension": ".py",
   "mimetype": "text/x-python",
   "name": "python",
   "nbconvert_exporter": "python",
   "pygments_lexer": "ipython3",
   "version": "3.6.4"
  }
 },
 "nbformat": 4,
 "nbformat_minor": 2
}
