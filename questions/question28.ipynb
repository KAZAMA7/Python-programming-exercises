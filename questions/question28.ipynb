{
 "cells": [
  {
   "cell_type": "markdown",
   "metadata": {},
   "source": [
    "Question:\n",
    "Define a function that can accept two strings as input and print the string with maximum length in console. If two strings have the same length, then the function should print all strings line by line.\n",
    "\n",
    "Hints:\n",
    "\n",
    "Use len() function to get the length of a string\n",
    "\n",
    "Solution"
   ]
  },
  {
   "cell_type": "code",
   "execution_count": 1,
   "metadata": {},
   "outputs": [],
   "source": [
    "def max_length(x, y):\n",
    "    len1 = len(x)\n",
    "    len2 = len(y)\n",
    "    if len1 > len2:\n",
    "        print(x)\n",
    "    elif len2 > len1:\n",
    "        print(y)\n",
    "    else:\n",
    "        print(x)\n",
    "        print(y)"
   ]
  },
  {
   "cell_type": "code",
   "execution_count": 2,
   "metadata": {},
   "outputs": [
    {
     "name": "stdout",
     "output_type": "stream",
     "text": [
      "Please provide the first stringwshfclwekjflqwkfql;'wk;qlwk\n",
      "Please provide the second stringevljerl'q;kq;lker;lker;'erl'rgegertke;rlk\n",
      "evljerl'q;kq;lker;lker;'erl'rgegertke;rlk\n"
     ]
    }
   ],
   "source": [
    "x = input(\"Please provide the first string\")\n",
    "y = input(\"Please provide the second string\")\n",
    "max_length(x, y)"
   ]
  },
  {
   "cell_type": "code",
   "execution_count": null,
   "metadata": {},
   "outputs": [],
   "source": []
  }
 ],
 "metadata": {
  "kernelspec": {
   "display_name": "Python 3",
   "language": "python",
   "name": "python3"
  },
  "language_info": {
   "codemirror_mode": {
    "name": "ipython",
    "version": 3
   },
   "file_extension": ".py",
   "mimetype": "text/x-python",
   "name": "python",
   "nbconvert_exporter": "python",
   "pygments_lexer": "ipython3",
   "version": "3.6.4"
  }
 },
 "nbformat": 4,
 "nbformat_minor": 2
}
